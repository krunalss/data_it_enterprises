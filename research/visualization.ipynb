{
 "cells": [
  {
   "cell_type": "code",
   "execution_count": 1,
   "metadata": {},
   "outputs": [],
   "source": [
    "import matplotlib.pyplot as plt\n",
    "import seaborn as sns"
   ]
  },
  {
   "cell_type": "code",
   "execution_count": 2,
   "metadata": {},
   "outputs": [],
   "source": [
    "import os\n",
    "%pwd\n",
    "os.chdir(\"../\")"
   ]
  },
  {
   "cell_type": "code",
   "execution_count": 3,
   "metadata": {},
   "outputs": [],
   "source": [
    "sns.set(style=\"whitegrid\")"
   ]
  },
  {
   "cell_type": "code",
   "execution_count": 4,
   "metadata": {},
   "outputs": [
    {
     "data": {
      "text/plain": [
       "'d:\\\\Runway\\\\Projects\\\\data_it_enterprises'"
      ]
     },
     "execution_count": 4,
     "metadata": {},
     "output_type": "execute_result"
    }
   ],
   "source": [
    "%pwd"
   ]
  },
  {
   "cell_type": "code",
   "execution_count": 5,
   "metadata": {},
   "outputs": [],
   "source": [
    "import pandas as pd\n"
   ]
  },
  {
   "cell_type": "code",
   "execution_count": 6,
   "metadata": {},
   "outputs": [
    {
     "data": {
      "text/html": [
       "<div>\n",
       "<style scoped>\n",
       "    .dataframe tbody tr th:only-of-type {\n",
       "        vertical-align: middle;\n",
       "    }\n",
       "\n",
       "    .dataframe tbody tr th {\n",
       "        vertical-align: top;\n",
       "    }\n",
       "\n",
       "    .dataframe thead th {\n",
       "        text-align: right;\n",
       "    }\n",
       "</style>\n",
       "<table border=\"1\" class=\"dataframe\">\n",
       "  <thead>\n",
       "    <tr style=\"text-align: right;\">\n",
       "      <th></th>\n",
       "      <th>CPU_Load</th>\n",
       "      <th>Memory_Usage</th>\n",
       "      <th>Disk_Usage</th>\n",
       "      <th>Network_IO</th>\n",
       "      <th>Server_Load</th>\n",
       "      <th>Power_Consumption</th>\n",
       "      <th>Temperature</th>\n",
       "      <th>Num_of_Running_Processes</th>\n",
       "      <th>Storage_Capacity</th>\n",
       "      <th>Server_Uptime</th>\n",
       "      <th>Status</th>\n",
       "      <th>Server_ID</th>\n",
       "      <th>Server_Dependency</th>\n",
       "    </tr>\n",
       "  </thead>\n",
       "  <tbody>\n",
       "    <tr>\n",
       "      <th>0</th>\n",
       "      <td>52.629190</td>\n",
       "      <td>48.885554</td>\n",
       "      <td>65.686480</td>\n",
       "      <td>42.113656</td>\n",
       "      <td>48.569130</td>\n",
       "      <td>39.249038</td>\n",
       "      <td>55.792941</td>\n",
       "      <td>51</td>\n",
       "      <td>56.160407</td>\n",
       "      <td>48.473423</td>\n",
       "      <td>59.473216</td>\n",
       "      <td>Server_1</td>\n",
       "      <td>Server_2945</td>\n",
       "    </tr>\n",
       "    <tr>\n",
       "      <th>1</th>\n",
       "      <td>56.634583</td>\n",
       "      <td>20.232022</td>\n",
       "      <td>35.264304</td>\n",
       "      <td>37.050711</td>\n",
       "      <td>66.371983</td>\n",
       "      <td>50.963175</td>\n",
       "      <td>38.899316</td>\n",
       "      <td>46</td>\n",
       "      <td>50.962167</td>\n",
       "      <td>58.002286</td>\n",
       "      <td>39.901573</td>\n",
       "      <td>Server_2</td>\n",
       "      <td>Server_738</td>\n",
       "    </tr>\n",
       "    <tr>\n",
       "      <th>2</th>\n",
       "      <td>34.024515</td>\n",
       "      <td>21.227805</td>\n",
       "      <td>56.550348</td>\n",
       "      <td>34.393895</td>\n",
       "      <td>45.425457</td>\n",
       "      <td>53.193483</td>\n",
       "      <td>29.091559</td>\n",
       "      <td>48</td>\n",
       "      <td>59.323921</td>\n",
       "      <td>50.566179</td>\n",
       "      <td>41.766745</td>\n",
       "      <td>Server_3</td>\n",
       "      <td>Server_1396</td>\n",
       "    </tr>\n",
       "    <tr>\n",
       "      <th>3</th>\n",
       "      <td>43.595644</td>\n",
       "      <td>42.301180</td>\n",
       "      <td>47.927740</td>\n",
       "      <td>59.211128</td>\n",
       "      <td>58.502400</td>\n",
       "      <td>31.574986</td>\n",
       "      <td>49.276095</td>\n",
       "      <td>50</td>\n",
       "      <td>55.188524</td>\n",
       "      <td>49.681689</td>\n",
       "      <td>37.464329</td>\n",
       "      <td>Server_4</td>\n",
       "      <td>Server_242</td>\n",
       "    </tr>\n",
       "    <tr>\n",
       "      <th>4</th>\n",
       "      <td>45.944282</td>\n",
       "      <td>58.220190</td>\n",
       "      <td>58.248009</td>\n",
       "      <td>66.926232</td>\n",
       "      <td>45.186706</td>\n",
       "      <td>50.537771</td>\n",
       "      <td>45.028851</td>\n",
       "      <td>61</td>\n",
       "      <td>71.671269</td>\n",
       "      <td>71.834936</td>\n",
       "      <td>54.728673</td>\n",
       "      <td>Server_5</td>\n",
       "      <td>Server_2681</td>\n",
       "    </tr>\n",
       "  </tbody>\n",
       "</table>\n",
       "</div>"
      ],
      "text/plain": [
       "    CPU_Load  Memory_Usage  Disk_Usage  Network_IO  Server_Load  \\\n",
       "0  52.629190     48.885554   65.686480   42.113656    48.569130   \n",
       "1  56.634583     20.232022   35.264304   37.050711    66.371983   \n",
       "2  34.024515     21.227805   56.550348   34.393895    45.425457   \n",
       "3  43.595644     42.301180   47.927740   59.211128    58.502400   \n",
       "4  45.944282     58.220190   58.248009   66.926232    45.186706   \n",
       "\n",
       "   Power_Consumption  Temperature  Num_of_Running_Processes  Storage_Capacity  \\\n",
       "0          39.249038    55.792941                        51         56.160407   \n",
       "1          50.963175    38.899316                        46         50.962167   \n",
       "2          53.193483    29.091559                        48         59.323921   \n",
       "3          31.574986    49.276095                        50         55.188524   \n",
       "4          50.537771    45.028851                        61         71.671269   \n",
       "\n",
       "   Server_Uptime     Status Server_ID Server_Dependency  \n",
       "0      48.473423  59.473216  Server_1       Server_2945  \n",
       "1      58.002286  39.901573  Server_2        Server_738  \n",
       "2      50.566179  41.766745  Server_3       Server_1396  \n",
       "3      49.681689  37.464329  Server_4        Server_242  \n",
       "4      71.834936  54.728673  Server_5       Server_2681  "
      ]
     },
     "execution_count": 6,
     "metadata": {},
     "output_type": "execute_result"
    }
   ],
   "source": [
    "data=pd.read_csv(\"artifacts/data_ingestion/allmetrics.csv\")\n",
    "data.head()"
   ]
  },
  {
   "cell_type": "code",
   "execution_count": null,
   "metadata": {},
   "outputs": [],
   "source": [
    "import matplotlib.pyplot as plt\n",
    "plt.figure(figsize=(10, 6))\n",
    "sns.histplot(data['CPU_Load'], kde=True, color='blue')\n",
    "plt.title('Distribution of CPU Load Across Servers')\n",
    "plt.xlabel('CPU Load')\n",
    "plt.ylabel('Frequency')\n",
    "plt.show()"
   ]
  },
  {
   "cell_type": "code",
   "execution_count": 8,
   "metadata": {},
   "outputs": [
    {
     "data": {
      "image/png": "[encoded data removed]",
      "text/plain": [
       "<Figure size 1000x600 with 1 Axes>"
      ]
     },
     "metadata": {},
     "output_type": "display_data"
    }
   ],
   "source": [
    "import matplotlib.pyplot as plt\n",
    "# Plotting the distribution of CPU Load\n",
    "plt.figure(figsize=(10, 6))\n",
    "fig=sns.histplot(data['CPU_Load'], kde=, color='blue', bins=20)\n",
    "fig.set_title('Distribution of CPU Load Across Servers')\n",
    "fig.set_xlabel('CPU Load')\n",
    "fig.set_ylabel('Number of Servers')\n",
    "st.pyplot(fig.figure)"
   ]
  },
  {
   "cell_type": "code",
   "execution_count": 34,
   "metadata": {},
   "outputs": [
    {
     "name": "stdout",
     "output_type": "stream",
     "text": [
      "Number of servers with CPU Load less than 25: 190\n",
      "Number of servers with Memory Usage less than 25: 387\n",
      "Number of servers with Disk Usage less than 25: 266\n"
     ]
    }
   ],
   "source": [
    "count_low_cpu_load = data[data['CPU_Load'] < 25].shape[0]\n",
    "count_low_memory_usage = data[data['Memory_Usage'] < 25].shape[0]\n",
    "count_low_disk_usage = data[data['Disk_Usage'] < 25].shape[0]\n",
    "\n",
    "print(\"Number of servers with CPU Load less than 25:\", count_low_cpu_load)\n",
    "print(\"Number of servers with Memory Usage less than 25:\", count_low_memory_usage)\n",
    "print(\"Number of servers with Disk Usage less than 25:\", count_low_disk_usage)"
   ]
  },
  {
   "cell_type": "code",
   "execution_count": 36,
   "metadata": {},
   "outputs": [
    {
     "name": "stdout",
     "output_type": "stream",
     "text": [
      "Number of servers with CPU Load high than 85: 17\n",
      "Number of servers with Memory Usage high than 85: 11\n",
      "Number of servers with Disk Usage high than 85: 1\n"
     ]
    }
   ],
   "source": [
    "count_high_cpu_load = data[data['CPU_Load'] > 85].shape[0]\n",
    "count_high_memory_usage = data[data['Memory_Usage'] > 85].shape[0]\n",
    "count_high_disk_usage = data[data['Disk_Usage'] > 85].shape[0]\n",
    "\n",
    "print(\"Number of servers with CPU Load high than 85:\", count_high_cpu_load)\n",
    "print(\"Number of servers with Memory Usage high than 85:\", count_high_memory_usage)\n",
    "print(\"Number of servers with Disk Usage high than 85:\", count_high_disk_usage)"
   ]
  },
  {
   "cell_type": "code",
   "execution_count": 37,
   "metadata": {},
   "outputs": [
    {
     "ename": "TypeError",
     "evalue": "'DataFrame' object is not callable",
     "output_type": "error",
     "traceback": [
      "\u001b[1;31m---------------------------------------------------------------------------\u001b[0m",
      "\u001b[1;31mTypeError\u001b[0m                                 Traceback (most recent call last)",
      "\u001b[1;32md:\\Runway\\Projects\\data_it_enterprises\\research\\visualization.ipynb Cell 11\u001b[0m line \u001b[0;36m2\n\u001b[0;32m     <a href='vscode-notebook-cell:/d%3A/Runway/Projects/data_it_enterprises/research/visualization.ipynb#X22sZmlsZQ%3D%3D?line=23'>24</a>\u001b[0m \u001b[39m# Now we plot the stacked bar chart\u001b[39;00m\n\u001b[0;32m     <a href='vscode-notebook-cell:/d%3A/Runway/Projects/data_it_enterprises/research/visualization.ipynb#X22sZmlsZQ%3D%3D?line=24'>25</a>\u001b[0m categories \u001b[39m=\u001b[39m [\u001b[39m'\u001b[39m\u001b[39mCPU Load\u001b[39m\u001b[39m'\u001b[39m, \u001b[39m'\u001b[39m\u001b[39mMemory Usage\u001b[39m\u001b[39m'\u001b[39m, \u001b[39m'\u001b[39m\u001b[39mDisk Usage\u001b[39m\u001b[39m'\u001b[39m]\n\u001b[1;32m---> <a href='vscode-notebook-cell:/d%3A/Runway/Projects/data_it_enterprises/research/visualization.ipynb#X22sZmlsZQ%3D%3D?line=25'>26</a>\u001b[0m values \u001b[39m=\u001b[39m data([cpu_load_values, memory_usage_values, disk_usage_values])\n\u001b[0;32m     <a href='vscode-notebook-cell:/d%3A/Runway/Projects/data_it_enterprises/research/visualization.ipynb#X22sZmlsZQ%3D%3D?line=27'>28</a>\u001b[0m fig, ax \u001b[39m=\u001b[39m plt\u001b[39m.\u001b[39msubplots(figsize\u001b[39m=\u001b[39m(\u001b[39m10\u001b[39m, \u001b[39m6\u001b[39m))\n\u001b[0;32m     <a href='vscode-notebook-cell:/d%3A/Runway/Projects/data_it_enterprises/research/visualization.ipynb#X22sZmlsZQ%3D%3D?line=29'>30</a>\u001b[0m \u001b[39m# The bar locations on the x-axis\u001b[39;00m\n",
      "\u001b[1;31mTypeError\u001b[0m: 'DataFrame' object is not callable"
     ]
    }
   ],
   "source": [
    "# Initialize counts\n",
    "cpu_load_counts = {'Low (<=25)': 0, 'Normal (26-85)': 0, 'High (>85)': 0}\n",
    "memory_usage_counts = {'Low (<=25)': 0, 'Normal (26-85)': 0, 'High (>85)': 0}\n",
    "disk_usage_counts = {'Low (<=25)': 0, 'Normal (26-85)': 0, 'High (>85)': 0}\n",
    "\n",
    "# Calculate counts for each category\n",
    "cpu_load_counts['Low (<=25)'] = (data['CPU_Load'] <= 25).sum()\n",
    "cpu_load_counts['Normal (26-85)'] = ((data['CPU_Load'] > 25) & (data['CPU_Load'] <= 85)).sum()\n",
    "cpu_load_counts['High (>85)'] = (data['CPU_Load'] > 85).sum()\n",
    "\n",
    "memory_usage_counts['Low (<=25)'] = (data['Memory_Usage'] <= 25).sum()\n",
    "memory_usage_counts['Normal (26-85)'] = ((data['Memory_Usage'] > 25) & (data['Memory_Usage'] <= 85)).sum()\n",
    "memory_usage_counts['High (>85)'] = (data['Memory_Usage'] > 85).sum()\n",
    "\n",
    "disk_usage_counts['Low (<=25)'] = (data['Disk_Usage'] <= 25).sum()\n",
    "disk_usage_counts['Normal (26-85)'] = ((data['Disk_Usage'] > 25) & (data['Disk_Usage'] <= 85)).sum()\n",
    "disk_usage_counts['High (>85)'] = (data['Disk_Usage'] > 85).sum()\n",
    "\n",
    "# Convert to list of lists in the order of Low, Normal, High\n",
    "cpu_load_values = [cpu_load_counts['Low (<=25)'], cpu_load_counts['Normal (26-85)'], cpu_load_counts['High (>85)']]\n",
    "memory_usage_values = [memory_usage_counts['Low (<=25)'], memory_usage_counts['Normal (26-85)'], memory_usage_counts['High (>85)']]\n",
    "disk_usage_values = [disk_usage_counts['Low (<=25)'], disk_usage_counts['Normal (26-85)'], disk_usage_counts['High (>85)']]\n",
    "\n",
    "# Now we plot the stacked bar chart\n",
    "categories = ['CPU Load', 'Memory Usage', 'Disk Usage']\n",
    "values = data([cpu_load_values, memory_usage_values, disk_usage_values])\n",
    "\n",
    "fig, ax = plt.subplots(figsize=(10, 6))\n",
    "\n",
    "# The bar locations on the x-axis\n",
    "bar_locations = data.arange(len(categories))\n",
    "\n",
    "# The width of the bars\n",
    "bar_width = 0.5\n",
    "\n",
    "# Colors for each section\n",
    "colors = ['green', 'blue', 'red']\n",
    "\n",
    "# Plotting each stack\n",
    "for i in range(len(colors)):\n",
    "    ax.bar(bar_locations, values[:, i], bar_width, bottom=data.sum(values[:, :i], axis=1), color=colors[i], label=f'{[\"<=25\", \"Normal\", \">85\"][i]}')\n",
    "\n",
    "# Adding the text labels for each bar\n",
    "for i in range(len(categories)):\n",
    "    for j in range(len(colors)):\n",
    "        height = data.sum(values[i, :j])\n",
    "        ax.text(i, height + values[i, j]/2, f'{values[i, j]}', ha='center', va='center')\n",
    "\n",
    "# Setting the position of the x ticks\n",
    "ax.set_xticks(bar_locations)\n",
    "\n",
    "# Setting the labels for the x ticks\n",
    "ax.set_xticklabels(categories)\n",
    "\n",
    "# Adding the legend\n",
    "ax.legend(title='Category')\n",
    "\n",
    "# Setting the labels for the axes\n",
    "plt.xlabel('Metrics')\n",
    "plt.ylabel('Number of Servers')\n",
    "\n",
    "# Display the plot\n",
    "plt.show()"
   ]
  }
 ],
 "metadata": {
  "kernelspec": {
   "display_name": "datait",
   "language": "python",
   "name": "python3"
  },
  "language_info": {
   "codemirror_mode": {
    "name": "ipython",
    "version": 3
   },
   "file_extension": ".py",
   "mimetype": "text/x-python",
   "name": "python",
   "nbconvert_exporter": "python",
   "pygments_lexer": "ipython3",
   "version": "3.8.18"
  }
 },
 "nbformat": 4,
 "nbformat_minor": 2
}
