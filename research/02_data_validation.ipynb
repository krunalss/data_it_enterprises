{
 "cells": [
  {
   "cell_type": "code",
   "execution_count": 3,
   "metadata": {},
   "outputs": [],
   "source": [
    "import os"
   ]
  },
  {
   "cell_type": "code",
   "execution_count": 4,
   "metadata": {},
   "outputs": [
    {
     "data": {
      "text/plain": [
       "'d:\\\\Runway\\\\Projects\\\\data_it_enterprises\\\\research'"
      ]
     },
     "execution_count": 4,
     "metadata": {},
     "output_type": "execute_result"
    }
   ],
   "source": [
    "%pwd"
   ]
  },
  {
   "cell_type": "code",
   "execution_count": 5,
   "metadata": {},
   "outputs": [],
   "source": [
    "os.chdir(\"../\")"
   ]
  },
  {
   "cell_type": "code",
   "execution_count": 6,
   "metadata": {},
   "outputs": [
    {
     "data": {
      "text/plain": [
       "'d:\\\\Runway\\\\Projects\\\\data_it_enterprises'"
      ]
     },
     "execution_count": 6,
     "metadata": {},
     "output_type": "execute_result"
    }
   ],
   "source": [
    "%pwd"
   ]
  },
  {
   "cell_type": "code",
   "execution_count": 7,
   "metadata": {},
   "outputs": [],
   "source": [
    "import pandas as pd"
   ]
  },
  {
   "cell_type": "code",
   "execution_count": 9,
   "metadata": {},
   "outputs": [
    {
     "data": {
      "text/html": [
       "<div>\n",
       "<style scoped>\n",
       "    .dataframe tbody tr th:only-of-type {\n",
       "        vertical-align: middle;\n",
       "    }\n",
       "\n",
       "    .dataframe tbody tr th {\n",
       "        vertical-align: top;\n",
       "    }\n",
       "\n",
       "    .dataframe thead th {\n",
       "        text-align: right;\n",
       "    }\n",
       "</style>\n",
       "<table border=\"1\" class=\"dataframe\">\n",
       "  <thead>\n",
       "    <tr style=\"text-align: right;\">\n",
       "      <th></th>\n",
       "      <th>CPU_Load</th>\n",
       "      <th>Memory_Usage</th>\n",
       "      <th>Disk_Usage</th>\n",
       "      <th>Network_IO</th>\n",
       "      <th>Server_Load</th>\n",
       "      <th>Power_Consumption</th>\n",
       "      <th>Temperature</th>\n",
       "      <th>Num_of_Running_Processes</th>\n",
       "      <th>Storage_Capacity</th>\n",
       "      <th>Server_Uptime</th>\n",
       "      <th>Status</th>\n",
       "      <th>Server_ID</th>\n",
       "      <th>Server_Dependency</th>\n",
       "    </tr>\n",
       "  </thead>\n",
       "  <tbody>\n",
       "    <tr>\n",
       "      <th>0</th>\n",
       "      <td>52.629190</td>\n",
       "      <td>48.885554</td>\n",
       "      <td>65.686480</td>\n",
       "      <td>42.113656</td>\n",
       "      <td>48.569130</td>\n",
       "      <td>39.249038</td>\n",
       "      <td>55.792941</td>\n",
       "      <td>51</td>\n",
       "      <td>56.160407</td>\n",
       "      <td>48.473423</td>\n",
       "      <td>59.473216</td>\n",
       "      <td>Server_1</td>\n",
       "      <td>Server_2945</td>\n",
       "    </tr>\n",
       "    <tr>\n",
       "      <th>1</th>\n",
       "      <td>56.634583</td>\n",
       "      <td>20.232022</td>\n",
       "      <td>35.264304</td>\n",
       "      <td>37.050711</td>\n",
       "      <td>66.371983</td>\n",
       "      <td>50.963175</td>\n",
       "      <td>38.899316</td>\n",
       "      <td>46</td>\n",
       "      <td>50.962167</td>\n",
       "      <td>58.002286</td>\n",
       "      <td>39.901573</td>\n",
       "      <td>Server_2</td>\n",
       "      <td>Server_738</td>\n",
       "    </tr>\n",
       "    <tr>\n",
       "      <th>2</th>\n",
       "      <td>34.024515</td>\n",
       "      <td>21.227805</td>\n",
       "      <td>56.550348</td>\n",
       "      <td>34.393895</td>\n",
       "      <td>45.425457</td>\n",
       "      <td>53.193483</td>\n",
       "      <td>29.091559</td>\n",
       "      <td>48</td>\n",
       "      <td>59.323921</td>\n",
       "      <td>50.566179</td>\n",
       "      <td>41.766745</td>\n",
       "      <td>Server_3</td>\n",
       "      <td>Server_1396</td>\n",
       "    </tr>\n",
       "    <tr>\n",
       "      <th>3</th>\n",
       "      <td>43.595644</td>\n",
       "      <td>42.301180</td>\n",
       "      <td>47.927740</td>\n",
       "      <td>59.211128</td>\n",
       "      <td>58.502400</td>\n",
       "      <td>31.574986</td>\n",
       "      <td>49.276095</td>\n",
       "      <td>50</td>\n",
       "      <td>55.188524</td>\n",
       "      <td>49.681689</td>\n",
       "      <td>37.464329</td>\n",
       "      <td>Server_4</td>\n",
       "      <td>Server_242</td>\n",
       "    </tr>\n",
       "    <tr>\n",
       "      <th>4</th>\n",
       "      <td>45.944282</td>\n",
       "      <td>58.220190</td>\n",
       "      <td>58.248009</td>\n",
       "      <td>66.926232</td>\n",
       "      <td>45.186706</td>\n",
       "      <td>50.537771</td>\n",
       "      <td>45.028851</td>\n",
       "      <td>61</td>\n",
       "      <td>71.671269</td>\n",
       "      <td>71.834936</td>\n",
       "      <td>54.728673</td>\n",
       "      <td>Server_5</td>\n",
       "      <td>Server_2681</td>\n",
       "    </tr>\n",
       "  </tbody>\n",
       "</table>\n",
       "</div>"
      ],
      "text/plain": [
       "    CPU_Load  Memory_Usage  Disk_Usage  Network_IO  Server_Load  \\\n",
       "0  52.629190     48.885554   65.686480   42.113656    48.569130   \n",
       "1  56.634583     20.232022   35.264304   37.050711    66.371983   \n",
       "2  34.024515     21.227805   56.550348   34.393895    45.425457   \n",
       "3  43.595644     42.301180   47.927740   59.211128    58.502400   \n",
       "4  45.944282     58.220190   58.248009   66.926232    45.186706   \n",
       "\n",
       "   Power_Consumption  Temperature  Num_of_Running_Processes  Storage_Capacity  \\\n",
       "0          39.249038    55.792941                        51         56.160407   \n",
       "1          50.963175    38.899316                        46         50.962167   \n",
       "2          53.193483    29.091559                        48         59.323921   \n",
       "3          31.574986    49.276095                        50         55.188524   \n",
       "4          50.537771    45.028851                        61         71.671269   \n",
       "\n",
       "   Server_Uptime     Status Server_ID Server_Dependency  \n",
       "0      48.473423  59.473216  Server_1       Server_2945  \n",
       "1      58.002286  39.901573  Server_2        Server_738  \n",
       "2      50.566179  41.766745  Server_3       Server_1396  \n",
       "3      49.681689  37.464329  Server_4        Server_242  \n",
       "4      71.834936  54.728673  Server_5       Server_2681  "
      ]
     },
     "execution_count": 9,
     "metadata": {},
     "output_type": "execute_result"
    }
   ],
   "source": [
    "data = pd.read_csv(\"artifacts/data_ingestion/allmetrics.csv\")\n",
    "data.head()"
   ]
  },
  {
   "cell_type": "code",
   "execution_count": 10,
   "metadata": {},
   "outputs": [
    {
     "name": "stdout",
     "output_type": "stream",
     "text": [
      "<class 'pandas.core.frame.DataFrame'>\n",
      "RangeIndex: 5000 entries, 0 to 4999\n",
      "Data columns (total 13 columns):\n",
      " #   Column                    Non-Null Count  Dtype  \n",
      "---  ------                    --------------  -----  \n",
      " 0   CPU_Load                  5000 non-null   float64\n",
      " 1   Memory_Usage              5000 non-null   float64\n",
      " 2   Disk_Usage                5000 non-null   float64\n",
      " 3   Network_IO                5000 non-null   float64\n",
      " 4   Server_Load               5000 non-null   float64\n",
      " 5   Power_Consumption         5000 non-null   float64\n",
      " 6   Temperature               5000 non-null   float64\n",
      " 7   Num_of_Running_Processes  5000 non-null   int64  \n",
      " 8   Storage_Capacity          5000 non-null   float64\n",
      " 9   Server_Uptime             5000 non-null   float64\n",
      " 10  Status                    5000 non-null   float64\n",
      " 11  Server_ID                 5000 non-null   object \n",
      " 12  Server_Dependency         5000 non-null   object \n",
      "dtypes: float64(10), int64(1), object(2)\n",
      "memory usage: 507.9+ KB\n"
     ]
    }
   ],
   "source": [
    "data.info()"
   ]
  },
  {
   "cell_type": "code",
   "execution_count": 11,
   "metadata": {},
   "outputs": [
    {
     "data": {
      "text/plain": [
       "CPU_Load                    0\n",
       "Memory_Usage                0\n",
       "Disk_Usage                  0\n",
       "Network_IO                  0\n",
       "Server_Load                 0\n",
       "Power_Consumption           0\n",
       "Temperature                 0\n",
       "Num_of_Running_Processes    0\n",
       "Storage_Capacity            0\n",
       "Server_Uptime               0\n",
       "Status                      0\n",
       "Server_ID                   0\n",
       "Server_Dependency           0\n",
       "dtype: int64"
      ]
     },
     "execution_count": 11,
     "metadata": {},
     "output_type": "execute_result"
    }
   ],
   "source": [
    "data.isnull().sum()"
   ]
  },
  {
   "cell_type": "code",
   "execution_count": 12,
   "metadata": {},
   "outputs": [
    {
     "data": {
      "text/plain": [
       "(5000, 13)"
      ]
     },
     "execution_count": 12,
     "metadata": {},
     "output_type": "execute_result"
    }
   ],
   "source": [
    "data.shape"
   ]
  },
  {
   "cell_type": "code",
   "execution_count": 13,
   "metadata": {},
   "outputs": [
    {
     "data": {
      "text/plain": [
       "Index(['CPU_Load', 'Memory_Usage', 'Disk_Usage', 'Network_IO', 'Server_Load',\n",
       "       'Power_Consumption', 'Temperature', 'Num_of_Running_Processes',\n",
       "       'Storage_Capacity', 'Server_Uptime', 'Status', 'Server_ID',\n",
       "       'Server_Dependency'],\n",
       "      dtype='object')"
      ]
     },
     "execution_count": 13,
     "metadata": {},
     "output_type": "execute_result"
    }
   ],
   "source": [
    "data.columns"
   ]
  },
  {
   "cell_type": "code",
   "execution_count": 14,
   "metadata": {},
   "outputs": [],
   "source": [
    "from dataclasses import dataclass\n",
    "from pathlib import Path\n",
    "\n",
    "\n",
    "@dataclass(frozen=True)\n",
    "class DataValidationConfig:\n",
    "    root_dir: Path\n",
    "    STATUS_FILE: str\n",
    "    unzip_data_dir: Path\n",
    "    all_schema: dict"
   ]
  },
  {
   "cell_type": "code",
   "execution_count": 17,
   "metadata": {},
   "outputs": [],
   "source": [
    "from data_it_entp.constants import *\n",
    "from data_it_entp.utils.common import read_yaml,create_directories"
   ]
  },
  {
   "cell_type": "code",
   "execution_count": 18,
   "metadata": {},
   "outputs": [],
   "source": [
    "class ConfigurationManager:\n",
    "    def __init__(\n",
    "        self,\n",
    "        config_filepath = CONFIG_FILE_PATH,\n",
    "        params_filepath = PARAMS_FILE_PATH,\n",
    "        schema_filepath = SCHEMA_FILE_PATH):\n",
    "\n",
    "        self.config = read_yaml(config_filepath)\n",
    "        self.params = read_yaml(params_filepath)\n",
    "        self.schema = read_yaml(schema_filepath)\n",
    "\n",
    "        create_directories([self.config.artifacts_root])\n",
    "        \n",
    "    def get_data_validation_config(self) -> DataValidationConfig:\n",
    "        config = self.config.data_validation\n",
    "        schema = self.schema.COLUMNS\n",
    "\n",
    "        create_directories([config.root_dir])\n",
    "\n",
    "        \n",
    "        data_validation_config = DataValidationConfig(\n",
    "            root_dir=config.root_dir,\n",
    "            STATUS_FILE=config.STATUS_FILE,\n",
    "            unzip_data_dir = config.unzip_data_dir,\n",
    "            all_schema=schema,\n",
    "        )\n",
    "\n",
    "        return data_validation_config\n"
   ]
  },
  {
   "cell_type": "code",
   "execution_count": 19,
   "metadata": {},
   "outputs": [],
   "source": [
    "import os\n",
    "from data_it_entp import logger"
   ]
  },
  {
   "cell_type": "code",
   "execution_count": 20,
   "metadata": {},
   "outputs": [],
   "source": [
    "class DataValiadtion:\n",
    "    def __init__(self, config: DataValidationConfig):\n",
    "        self.config = config\n",
    "\n",
    "\n",
    "    def validate_all_columns(self)-> bool:\n",
    "        try:\n",
    "            validation_status = None\n",
    "\n",
    "            data = pd.read_csv(self.config.unzip_data_dir)\n",
    "            all_cols = list(data.columns)\n",
    "\n",
    "            all_schema = self.config.all_schema.keys()\n",
    "\n",
    "            \n",
    "            for col in all_cols:\n",
    "                if col not in all_schema:\n",
    "                    validation_status = False\n",
    "                    with open(self.config.STATUS_FILE, 'w') as f:\n",
    "                        f.write(f\"Validation status: {validation_status}\")\n",
    "                else:\n",
    "                    validation_status = True\n",
    "                    with open(self.config.STATUS_FILE, 'w') as f:\n",
    "                        f.write(f\"Validation status: {validation_status}\")\n",
    "\n",
    "            return validation_status\n",
    "        \n",
    "        except Exception as e:\n",
    "            raise e"
   ]
  },
  {
   "cell_type": "code",
   "execution_count": 21,
   "metadata": {},
   "outputs": [
    {
     "name": "stdout",
     "output_type": "stream",
     "text": [
      "[2023-11-07 18:49:11,950:INFO:common:yaml file: config\\config.yaml loaded successfully:]\n",
      "[2023-11-07 18:49:11,950:INFO:common:yaml file: params.yaml loaded successfully:]\n",
      "[2023-11-07 18:49:11,950:INFO:common:yaml file: schema.yaml loaded successfully:]\n",
      "[2023-11-07 18:49:11,950:INFO:common:created directory at: artifacts:]\n",
      "[2023-11-07 18:49:11,950:INFO:common:created directory at: artifacts/data_validation:]\n"
     ]
    }
   ],
   "source": [
    "try:\n",
    "    config = ConfigurationManager()\n",
    "    data_validation_config = config.get_data_validation_config()\n",
    "    data_validation = DataValiadtion(config=data_validation_config)\n",
    "    data_validation.validate_all_columns()\n",
    "except Exception as e:\n",
    "    raise e"
   ]
  }
 ],
 "metadata": {
  "kernelspec": {
   "display_name": "datait",
   "language": "python",
   "name": "python3"
  },
  "language_info": {
   "codemirror_mode": {
    "name": "ipython",
    "version": 3
   },
   "file_extension": ".py",
   "mimetype": "text/x-python",
   "name": "python",
   "nbconvert_exporter": "python",
   "pygments_lexer": "ipython3",
   "version": "3.8.18"
  }
 },
 "nbformat": 4,
 "nbformat_minor": 2
}
