{
 "cells": [
  {
   "cell_type": "code",
   "execution_count": 1,
   "metadata": {},
   "outputs": [],
   "source": [
    "import os"
   ]
  },
  {
   "cell_type": "code",
   "execution_count": 2,
   "metadata": {},
   "outputs": [
    {
     "data": {
      "text/plain": [
       "'d:\\\\Runway\\\\Projects\\\\data_it_enterprises\\\\research'"
      ]
     },
     "execution_count": 2,
     "metadata": {},
     "output_type": "execute_result"
    }
   ],
   "source": [
    "%pwd"
   ]
  },
  {
   "cell_type": "code",
   "execution_count": 3,
   "metadata": {},
   "outputs": [],
   "source": [
    "os.chdir(\"../\")"
   ]
  },
  {
   "cell_type": "code",
   "execution_count": 12,
   "metadata": {},
   "outputs": [
    {
     "data": {
      "text/plain": [
       "'d:\\\\Runway\\\\Projects\\\\data_it_enterprises'"
      ]
     },
     "execution_count": 12,
     "metadata": {},
     "output_type": "execute_result"
    }
   ],
   "source": [
    "%pwd"
   ]
  },
  {
   "cell_type": "code",
   "execution_count": 19,
   "metadata": {},
   "outputs": [],
   "source": [
    "from dataclasses import dataclass\n",
    "from pathlib import Path\n",
    "\n",
    "\n",
    "@dataclass(frozen=True)\n",
    "class ModelTrainerConfig:\n",
    "    root_dir: Path\n",
    "    train_data_path: Path\n",
    "    test_data_path: Path\n",
    "    model_name: str\n",
    "    #alpha: float\n",
    "    #l1_ratio: float\n",
    "    target_column: float\n",
    "    objective: str\n",
    "    colsample_bytree: float\n",
    "    learning_rate: float\n",
    "    max_depth: int \n",
    "    alpha: int\n",
    "    n_estimators: int\n",
    "\n"
   ]
  },
  {
   "cell_type": "code",
   "execution_count": 20,
   "metadata": {},
   "outputs": [],
   "source": [
    "from data_it_entp.constants import *\n",
    "from data_it_entp.utils.common import read_yaml,create_directories"
   ]
  },
  {
   "cell_type": "code",
   "execution_count": 21,
   "metadata": {},
   "outputs": [],
   "source": [
    "class ConfigurationManager:\n",
    "    def __init__(\n",
    "        self,\n",
    "        config_filepath = CONFIG_FILE_PATH,\n",
    "        params_filepath = PARAMS_FILE_PATH,\n",
    "        schema_filepath = SCHEMA_FILE_PATH):\n",
    "\n",
    "        self.config = read_yaml(config_filepath)\n",
    "        self.params = read_yaml(params_filepath)\n",
    "        self.schema = read_yaml(schema_filepath)\n",
    "\n",
    "        create_directories([self.config.artifacts_root])\n",
    "\n",
    "\n",
    "    def get_model_trainer_config(self) -> ModelTrainerConfig:\n",
    "        config = self.config.model_trainer\n",
    "        params = self.params.Xgboost\n",
    "        schema =  self.schema.TARGET_COLUMN\n",
    "\n",
    "        create_directories([config.root_dir])\n",
    "\n",
    "        model_trainer_config = ModelTrainerConfig(\n",
    "            root_dir=config.root_dir,\n",
    "            train_data_path = config.train_data_path,\n",
    "            test_data_path = config.test_data_path,\n",
    "            model_name = config.model_name,\n",
    "            #alpha = params.alpha,\n",
    "            #l1_ratio = params.l1_ratio,\n",
    "            target_column = schema.name,\n",
    "            objective= params.objective,\n",
    "            colsample_bytree =params.colsample_bytree,\n",
    "            learning_rate= params.learning_rate,\n",
    "            max_depth= params.max_depth,\n",
    "            alpha = params.alpha,\n",
    "            n_estimators = params.n_estimators            \n",
    "        )\n",
    "\n",
    "        return model_trainer_config"
   ]
  },
  {
   "cell_type": "code",
   "execution_count": 22,
   "metadata": {},
   "outputs": [],
   "source": [
    "import pandas as pd\n",
    "import os\n",
    "from data_it_entp import logger\n",
    "from sklearn.linear_model import ElasticNet\n",
    "import xgboost as xgb\n",
    "import joblib"
   ]
  },
  {
   "cell_type": "code",
   "execution_count": 23,
   "metadata": {},
   "outputs": [],
   "source": [
    "class ModelTrainer:\n",
    "    def __init__(self, config: ModelTrainerConfig):\n",
    "        self.config = config\n",
    "\n",
    "    \n",
    "    def train(self):\n",
    "        train_data = pd.read_csv(self.config.train_data_path)\n",
    "        test_data = pd.read_csv(self.config.test_data_path)\n",
    "        features = ['CPU_Load', 'Memory_Usage', 'Disk_Usage']\n",
    "\n",
    "\n",
    "        train_x = train_data[features]\n",
    "        print(f\"train x={train_x}\")\n",
    "        test_x = test_data[features]\n",
    "        print(f\"test x={test_x}\")\n",
    "        train_y = train_data[[self.config.target_column]]\n",
    "        print(train_y)\n",
    "        test_y = test_data[[self.config.target_column]]\n",
    "        print(test_y)\n",
    "\n",
    "\n",
    "        #lr = ElasticNet(alpha=self.config.alpha, l1_ratio=self.config.l1_ratio, random_state=42)\n",
    "\n",
    "        xg_reg = xgb.XGBRegressor(objective = self.config.objective , colsample_bytree = self.config.colsample_bytree, learning_rate = self.config.learning_rate,\n",
    "                          max_depth = self.config.max_depth, alpha = self.config.alpha, n_estimators = self.config.n_estimators)\n",
    "\n",
    "        #lr.fit(train_x, train_y)\n",
    "        xg_reg.fit(train_x, train_y)\n",
    "\n",
    "\n",
    "        #joblib.dump(lr, os.path.join(self.config.root_dir, self.config.model_name))\n",
    "        joblib.dump(xg_reg, os.path.join(self.config.root_dir, self.config.model_name))"
   ]
  },
  {
   "cell_type": "code",
   "execution_count": 11,
   "metadata": {},
   "outputs": [
    {
     "name": "stdout",
     "output_type": "stream",
     "text": [
      "[2024-01-26 12:37:11,686:INFO:common:yaml file: config\\config.yaml loaded successfully:]\n",
      "[2024-01-26 12:37:11,737:INFO:common:yaml file: params.yaml loaded successfully:]\n",
      "[2024-01-26 12:37:11,759:INFO:common:yaml file: schema.yaml loaded successfully:]\n",
      "[2024-01-26 12:37:11,763:INFO:common:created directory at: artifacts:]\n",
      "[2024-01-26 12:37:11,766:INFO:common:created directory at: artifacts/model_trainer:]\n"
     ]
    },
    {
     "name": "stdout",
     "output_type": "stream",
     "text": [
      "train x=       CPU_Load  Memory_Usage  Disk_Usage\n",
      "0     47.170597     55.417126   49.655354\n",
      "1     51.224043     48.644386   29.545440\n",
      "2     62.344658     40.880425   65.341062\n",
      "3     30.592252     76.811635   44.002248\n",
      "4     31.403968     64.144694   35.424983\n",
      "...         ...           ...         ...\n",
      "3745  33.485037     54.120987   52.408981\n",
      "3746  41.602582     28.169491   59.457946\n",
      "3747  58.798479     37.142573   52.071868\n",
      "3748  53.980931     58.870000   56.398904\n",
      "3749  52.509694     48.583583   44.554877\n",
      "\n",
      "[3750 rows x 3 columns]\n",
      "test x=       CPU_Load  Memory_Usage  Disk_Usage\n",
      "0     26.224957     34.397458   39.018992\n",
      "1     55.979687     38.774207   56.923488\n",
      "2     59.279552     26.559363   56.570760\n",
      "3     59.978793     46.729371   43.289534\n",
      "4     71.310066      5.786738   61.856858\n",
      "...         ...           ...         ...\n",
      "1245  44.765197     46.087772   43.211689\n",
      "1246  45.175807     27.807073   24.542793\n",
      "1247  64.178300     37.871120   66.206010\n",
      "1248  50.834585     40.128565   56.914353\n",
      "1249  54.567508     40.798363   41.181492\n",
      "\n",
      "[1250 rows x 3 columns]\n",
      "         Status\n",
      "0     49.729599\n",
      "1     34.972557\n",
      "2     65.760167\n",
      "3     34.100918\n",
      "4     26.797502\n",
      "...         ...\n",
      "3745  38.088466\n",
      "3746  45.213015\n",
      "3747  56.896899\n",
      "3748  57.325090\n",
      "3749  48.106730\n",
      "\n",
      "[3750 rows x 1 columns]\n",
      "         Status\n",
      "0     26.441805\n",
      "1     61.312863\n",
      "2     58.745820\n",
      "3     56.571107\n",
      "4     67.568258\n",
      "...         ...\n",
      "1245  51.378294\n",
      "1246  26.038548\n",
      "1247  68.782479\n",
      "1248  59.333653\n",
      "1249  49.387004\n",
      "\n",
      "[1250 rows x 1 columns]\n"
     ]
    }
   ],
   "source": [
    "try:\n",
    "    config = ConfigurationManager()\n",
    "    model_trainer_config = config.get_model_trainer_config()\n",
    "    model_trainer_config = ModelTrainer(config=model_trainer_config)\n",
    "    model_trainer_config.train()\n",
    "except Exception as e:\n",
    "    raise e"
   ]
  }
 ],
 "metadata": {
  "kernelspec": {
   "display_name": "datait",
   "language": "python",
   "name": "python3"
  },
  "language_info": {
   "codemirror_mode": {
    "name": "ipython",
    "version": 3
   },
   "file_extension": ".py",
   "mimetype": "text/x-python",
   "name": "python",
   "nbconvert_exporter": "python",
   "pygments_lexer": "ipython3",
   "version": "3.9.18"
  }
 },
 "nbformat": 4,
 "nbformat_minor": 2
}
