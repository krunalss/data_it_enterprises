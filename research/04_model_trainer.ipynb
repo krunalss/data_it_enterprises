{
 "cells": [
  {
   "cell_type": "code",
   "execution_count": 75,
   "metadata": {},
   "outputs": [],
   "source": [
    "import os"
   ]
  },
  {
   "cell_type": "code",
   "execution_count": 76,
   "metadata": {},
   "outputs": [
    {
     "data": {
      "text/plain": [
       "'d:\\\\Runway\\\\Projects\\\\data_it_enterprises'"
      ]
     },
     "execution_count": 76,
     "metadata": {},
     "output_type": "execute_result"
    }
   ],
   "source": [
    "%pwd"
   ]
  },
  {
   "cell_type": "code",
   "execution_count": null,
   "metadata": {},
   "outputs": [],
   "source": [
    "os.chdir(\"../\")"
   ]
  },
  {
   "cell_type": "code",
   "execution_count": 77,
   "metadata": {},
   "outputs": [
    {
     "data": {
      "text/plain": [
       "'d:\\\\Runway\\\\Projects\\\\data_it_enterprises'"
      ]
     },
     "execution_count": 77,
     "metadata": {},
     "output_type": "execute_result"
    }
   ],
   "source": [
    "%pwd"
   ]
  },
  {
   "cell_type": "code",
   "execution_count": 85,
   "metadata": {},
   "outputs": [],
   "source": [
    "from dataclasses import dataclass\n",
    "from pathlib import Path\n",
    "\n",
    "\n",
    "@dataclass(frozen=True)\n",
    "class ModelTrainerConfig:\n",
    "    root_dir: Path\n",
    "    train_data_path: Path\n",
    "    test_data_path: Path\n",
    "    model_name: str\n",
    "    alpha: float\n",
    "    l1_ratio: float\n",
    "    target_column: float"
   ]
  },
  {
   "cell_type": "code",
   "execution_count": 86,
   "metadata": {},
   "outputs": [],
   "source": [
    "from data_it_entp.constants import *\n",
    "from data_it_entp.utils.common import read_yaml,create_directories"
   ]
  },
  {
   "cell_type": "code",
   "execution_count": 87,
   "metadata": {},
   "outputs": [],
   "source": [
    "class ConfigurationManager:\n",
    "    def __init__(\n",
    "        self,\n",
    "        config_filepath = CONFIG_FILE_PATH,\n",
    "        params_filepath = PARAMS_FILE_PATH,\n",
    "        schema_filepath = SCHEMA_FILE_PATH):\n",
    "\n",
    "        self.config = read_yaml(config_filepath)\n",
    "        self.params = read_yaml(params_filepath)\n",
    "        self.schema = read_yaml(schema_filepath)\n",
    "\n",
    "        create_directories([self.config.artifacts_root])\n",
    "\n",
    "\n",
    "    def get_model_trainer_config(self) -> ModelTrainerConfig:\n",
    "        config = self.config.model_trainer\n",
    "        params = self.params.ElasticNet\n",
    "        schema =  self.schema.TARGET_COLUMN\n",
    "\n",
    "        create_directories([config.root_dir])\n",
    "\n",
    "        model_trainer_config = ModelTrainerConfig(\n",
    "            root_dir=config.root_dir,\n",
    "            train_data_path = config.train_data_path,\n",
    "            test_data_path = config.test_data_path,\n",
    "            model_name = config.model_name,\n",
    "            alpha = params.alpha,\n",
    "            l1_ratio = params.l1_ratio,\n",
    "            target_column = schema.name\n",
    "            \n",
    "        )\n",
    "\n",
    "        return model_trainer_config"
   ]
  },
  {
   "cell_type": "code",
   "execution_count": 88,
   "metadata": {},
   "outputs": [],
   "source": [
    "import pandas as pd\n",
    "import os\n",
    "from data_it_entp import logger\n",
    "from sklearn.linear_model import ElasticNet\n",
    "import joblib"
   ]
  },
  {
   "cell_type": "code",
   "execution_count": 89,
   "metadata": {},
   "outputs": [],
   "source": [
    "class ModelTrainer:\n",
    "    def __init__(self, config: ModelTrainerConfig):\n",
    "        self.config = config\n",
    "\n",
    "    \n",
    "    def train(self):\n",
    "        train_data = pd.read_csv(self.config.train_data_path)\n",
    "        test_data = pd.read_csv(self.config.test_data_path)\n",
    "        features = ['CPU_Load', 'Memory_Usage', 'Disk_Usage']\n",
    "\n",
    "\n",
    "        train_x = train_data[features]\n",
    "        print(f\"train x={train_x}\")\n",
    "        test_x = test_data[features]\n",
    "        print(f\"test x={test_x}\")\n",
    "        train_y = train_data[[self.config.target_column]]\n",
    "        print(train_y)\n",
    "        test_y = test_data[[self.config.target_column]]\n",
    "        print(test_y)\n",
    "\n",
    "\n",
    "        lr = ElasticNet(alpha=self.config.alpha, l1_ratio=self.config.l1_ratio, random_state=42)\n",
    "        lr.fit(train_x, train_y)\n",
    "\n",
    "        joblib.dump(lr, os.path.join(self.config.root_dir, self.config.model_name))"
   ]
  },
  {
   "cell_type": "code",
   "execution_count": 90,
   "metadata": {},
   "outputs": [
    {
     "name": "stdout",
     "output_type": "stream",
     "text": [
      "[2023-11-08 18:25:18,777:INFO:common:yaml file: config\\config.yaml loaded successfully:]\n",
      "[2023-11-08 18:25:18,780:INFO:common:yaml file: params.yaml loaded successfully:]\n",
      "[2023-11-08 18:25:18,780:INFO:common:yaml file: schema.yaml loaded successfully:]\n",
      "[2023-11-08 18:25:18,785:INFO:common:created directory at: artifacts:]\n",
      "[2023-11-08 18:25:18,785:INFO:common:created directory at: artifacts/model_trainer:]\n",
      "train x=       CPU_Load  Memory_Usage  Disk_Usage\n",
      "0     46.695877     48.236401   56.738613\n",
      "1     65.626312     51.409185   49.332597\n",
      "2     52.075837     62.546858   32.986407\n",
      "3     50.119382     56.777095   38.856738\n",
      "4     27.700496     57.304656   43.837445\n",
      "...         ...           ...         ...\n",
      "3745  51.675067     48.709561   52.419553\n",
      "3746  70.333609     50.694207   42.020465\n",
      "3747  32.554001     55.293972   48.544236\n",
      "3748  54.243945     44.477510   22.788593\n",
      "3749  37.938911     38.512457   41.401396\n",
      "\n",
      "[3750 rows x 3 columns]\n",
      "test x=       CPU_Load  Memory_Usage  Disk_Usage\n",
      "0     41.225272     24.578955   50.975412\n",
      "1     63.019289     25.740085   30.245114\n",
      "2     63.758105     23.209372   49.133671\n",
      "3     46.369243     30.075315   50.525959\n",
      "4     53.186038     54.344367   67.241910\n",
      "...         ...           ...         ...\n",
      "1245  48.791498     37.279443   53.263890\n",
      "1246  40.612643     30.970716   48.747823\n",
      "1247  64.087210     16.945810   37.492143\n",
      "1248  30.649399     79.235561   24.488132\n",
      "1249  60.169884     44.573903   39.555054\n",
      "\n",
      "[1250 rows x 3 columns]\n",
      "         Status\n",
      "0     53.225432\n",
      "1     59.325114\n",
      "2     41.086383\n",
      "3     43.873114\n",
      "4     35.795033\n",
      "...         ...\n",
      "3745  57.259214\n",
      "3746  50.996809\n",
      "3747  37.906172\n",
      "3748  35.784757\n",
      "3749  30.423080\n",
      "\n",
      "[3750 rows x 1 columns]\n",
      "         Status\n",
      "0     42.607990\n",
      "1     44.754219\n",
      "2     52.182375\n",
      "3     44.535888\n",
      "4     62.329881\n",
      "...         ...\n",
      "1245  48.324386\n",
      "1246  41.458011\n",
      "1247  55.757802\n",
      "1248  30.025354\n",
      "1249  49.727783\n",
      "\n",
      "[1250 rows x 1 columns]\n"
     ]
    }
   ],
   "source": [
    "try:\n",
    "    config = ConfigurationManager()\n",
    "    model_trainer_config = config.get_model_trainer_config()\n",
    "    model_trainer_config = ModelTrainer(config=model_trainer_config)\n",
    "    model_trainer_config.train()\n",
    "except Exception as e:\n",
    "    raise e"
   ]
  }
 ],
 "metadata": {
  "kernelspec": {
   "display_name": "datait",
   "language": "python",
   "name": "python3"
  },
  "language_info": {
   "codemirror_mode": {
    "name": "ipython",
    "version": 3
   },
   "file_extension": ".py",
   "mimetype": "text/x-python",
   "name": "python",
   "nbconvert_exporter": "python",
   "pygments_lexer": "ipython3",
   "version": "3.8.18"
  }
 },
 "nbformat": 4,
 "nbformat_minor": 2
}
